{
  "nbformat": 4,
  "nbformat_minor": 0,
  "metadata": {
    "colab": {
      "provenance": []
    },
    "kernelspec": {
      "name": "python3",
      "display_name": "Python 3"
    },
    "language_info": {
      "name": "python"
    }
  },
  "cells": [
    {
      "cell_type": "markdown",
      "metadata": {
        "id": "wo4gJQdYB8P2"
      },
      "source": [
        "\n",
        "#Brendon"
      ]
    },
    {
      "cell_type": "markdown",
      "metadata": {
        "id": "B342pSdCaksS"
      },
      "source": [
        "                  \n",
        "\n"
      ]
    },
    {
      "cell_type": "code",
      "metadata": {
        "id": "D0wmN8ThOhDV"
      },
      "source": [
        "import numpy as np\n",
        "import tensorflow as tf\n",
        "from tensorflow import keras\n",
        "import string, os\n",
        "import re\n",
        "from tqdm import tqdm\n",
        "import pandas as pd\n",
        "import matplotlib.pyplot as plt\n",
        "import pickle"
      ],
      "execution_count": null,
      "outputs": []
    },
    {
      "cell_type": "markdown",
      "metadata": {
        "id": "T1NyUySTbCiA"
      },
      "source": []
    },
    {
      "cell_type": "markdown",
      "metadata": {
        "id": "67QFJgW5Aqpa"
      },
      "source": [
        "#Initializing TPU in case we have a big Dataset"
      ]
    },
    {
      "cell_type": "code",
      "metadata": {
        "colab": {
          "base_uri": "https://localhost:8080/"
        },
        "id": "UDUvPdmbO8QC",
        "outputId": "5dce39fe-fb9e-4767-caba-d887eb7387e7"
      },
      "source": [
        "try:\n",
        "    tpu = tf.distribute.cluster_resolver.TPUClusterResolver()\n",
        "    print('Device:', tpu.master())\n",
        "    tf.config.experimental_connect_to_cluster(tpu)\n",
        "    tf.tpu.experimental.initialize_tpu_system(tpu)\n",
        "    strategy = tf.distribute.experimental.TPUStrategy(tpu)\n",
        "except:\n",
        "    strategy = tf.distribute.get_strategy()\n",
        "print('Number of replicas:', strategy.num_replicas_in_sync)\n",
        "\n",
        "AUTOTUNE = tf.data.experimental.AUTOTUNE\n",
        "\n",
        "print(tf.__version__)"
      ],
      "execution_count": null,
      "outputs": [
        {
          "output_type": "stream",
          "text": [
            "Number of replicas: 1\n",
            "2.5.0\n"
          ],
          "name": "stdout"
        }
      ]
    },
    {
      "cell_type": "markdown",
      "metadata": {
        "id": "EcO_7utHA2yu"
      },
      "source": [
        "#Hyperparameters"
      ]
    },
    {
      "cell_type": "code",
      "metadata": {
        "id": "MlcKcOhmO--p"
      },
      "source": [
        "batch_size = 10  # Batch size to train my dataset\n",
        "epochs = 30  # Number of epochs to train fmy dataset\n",
        "latent_dim = 251  # Latent dimensionality of the encoding space\n",
        "num_samples = 189 # Number of sample"
      ],
      "execution_count": null,
      "outputs": []
    },
    {
      "cell_type": "code",
      "metadata": {
        "colab": {
          "base_uri": "https://localhost:8080/"
        },
        "id": "N0L574BzPBuj",
        "outputId": "167e651a-f320-4b64-dad5-1a1a2082c144"
      },
      "source": [
        "#Mounting my drive\n",
        "from google.colab import drive\n",
        "drive.mount('/content/drive')"
      ],
      "execution_count": null,
      "outputs": [
        {
          "output_type": "stream",
          "text": [
            "Mounted at /content/drive\n"
          ],
          "name": "stdout"
        }
      ]
    },
    {
      "cell_type": "markdown",
      "metadata": {
        "id": "KZVmcylAfBQC"
      },
      "source": [
        "# Data obtained on github as a json file and l converted it to csv for readability so that l obtain good results\n",
        "\n",
        "link https://github.com/PuneetShivaay/Deep-Learning-Based-Chatbot-For-Medical-Assistance"
      ]
    },
    {
      "cell_type": "code",
      "metadata": {
        "colab": {
          "base_uri": "https://localhost:8080/",
          "height": 200
        },
        "id": "W8za6Q5fPKxG",
        "outputId": "0aee7633-7ba0-4895-a767-16c119a5d2bd"
      },
      "source": [
        "# reading dataset\n",
        "df = pd.read_csv('/content/drive/My Drive/Colab Notebooks/health/Healthcare.csv')\n",
        "df.head()"
      ],
      "execution_count": null,
      "outputs": [
        {
          "output_type": "execute_result",
          "data": {
            "text/html": [
              "<div>\n",
              "<style scoped>\n",
              "    .dataframe tbody tr th:only-of-type {\n",
              "        vertical-align: middle;\n",
              "    }\n",
              "\n",
              "    .dataframe tbody tr th {\n",
              "        vertical-align: top;\n",
              "    }\n",
              "\n",
              "    .dataframe thead th {\n",
              "        text-align: right;\n",
              "    }\n",
              "</style>\n",
              "<table border=\"1\" class=\"dataframe\">\n",
              "  <thead>\n",
              "    <tr style=\"text-align: right;\">\n",
              "      <th></th>\n",
              "      <th>conversation_id</th>\n",
              "      <th>message</th>\n",
              "      <th>sentiment</th>\n",
              "    </tr>\n",
              "  </thead>\n",
              "  <tbody>\n",
              "    <tr>\n",
              "      <th>0</th>\n",
              "      <td>1</td>\n",
              "      <td>greeting</td>\n",
              "      <td>greeting</td>\n",
              "    </tr>\n",
              "    <tr>\n",
              "      <th>1</th>\n",
              "      <td>1</td>\n",
              "      <td>Hi there</td>\n",
              "      <td>greeting</td>\n",
              "    </tr>\n",
              "    <tr>\n",
              "      <th>2</th>\n",
              "      <td>1</td>\n",
              "      <td>How are you</td>\n",
              "      <td>greeting</td>\n",
              "    </tr>\n",
              "    <tr>\n",
              "      <th>3</th>\n",
              "      <td>1</td>\n",
              "      <td>Is anyone there?</td>\n",
              "      <td>greeting</td>\n",
              "    </tr>\n",
              "    <tr>\n",
              "      <th>4</th>\n",
              "      <td>1</td>\n",
              "      <td>Hola</td>\n",
              "      <td>greeting</td>\n",
              "    </tr>\n",
              "  </tbody>\n",
              "</table>\n",
              "</div>"
            ],
            "text/plain": [
              "   conversation_id           message sentiment\n",
              "0                1          greeting  greeting\n",
              "1                1          Hi there  greeting\n",
              "2                1       How are you  greeting\n",
              "3                1  Is anyone there?  greeting\n",
              "4                1              Hola  greeting"
            ]
          },
          "metadata": {
            "tags": []
          },
          "execution_count": 7
        }
      ]
    },
    {
      "cell_type": "markdown",
      "metadata": {
        "id": "K86OVT8rgYX5"
      },
      "source": [
        "## Preprocessing of my data\n",
        "\n",
        "\n"
      ]
    },
    {
      "cell_type": "code",
      "metadata": {
        "id": "_HewHd3NPlEg"
      },
      "source": [
        "# Preprocessing and cleaning text\n",
        "def process(text):\n",
        "    text = text.lower().replace('\\n', ' ').replace('-', ' ').replace(':', ' ').replace(',', '') \\\n",
        "          .replace('\"', ' ').replace(\".\", \" \").replace(\"!\", \" \").replace(\"?\", \" \").replace(\";\", \" \").replace(\":\", \" \")\n",
        "\n",
        "    text = \"\".join(v for v in text if v not in string.punctuation).lower()\n",
        "    #text = text.encode(\"utf8\").decode(\"ascii\",'ignore')\n",
        "\n",
        "    text = \" \".join(text.split())\n",
        "    #text+=\"<eos>\"\n",
        "    return text"
      ],
      "execution_count": null,
      "outputs": []
    },
    {
      "cell_type": "code",
      "metadata": {
        "id": "Dqh9LpH1Pp6G"
      },
      "source": [
        "df.message = df.message.apply(process)"
      ],
      "execution_count": null,
      "outputs": []
    },
    {
      "cell_type": "code",
      "metadata": {
        "colab": {
          "base_uri": "https://localhost:8080/",
          "height": 200
        },
        "id": "UhqDhxv8PyCQ",
        "outputId": "4620cda3-1ab8-4f20-f259-e08e885c570f"
      },
      "source": [
        "df.head()"
      ],
      "execution_count": null,
      "outputs": [
        {
          "output_type": "execute_result",
          "data": {
            "text/html": [
              "<div>\n",
              "<style scoped>\n",
              "    .dataframe tbody tr th:only-of-type {\n",
              "        vertical-align: middle;\n",
              "    }\n",
              "\n",
              "    .dataframe tbody tr th {\n",
              "        vertical-align: top;\n",
              "    }\n",
              "\n",
              "    .dataframe thead th {\n",
              "        text-align: right;\n",
              "    }\n",
              "</style>\n",
              "<table border=\"1\" class=\"dataframe\">\n",
              "  <thead>\n",
              "    <tr style=\"text-align: right;\">\n",
              "      <th></th>\n",
              "      <th>conversation_id</th>\n",
              "      <th>message</th>\n",
              "      <th>sentiment</th>\n",
              "    </tr>\n",
              "  </thead>\n",
              "  <tbody>\n",
              "    <tr>\n",
              "      <th>0</th>\n",
              "      <td>1</td>\n",
              "      <td>greeting</td>\n",
              "      <td>greeting</td>\n",
              "    </tr>\n",
              "    <tr>\n",
              "      <th>1</th>\n",
              "      <td>1</td>\n",
              "      <td>hi there</td>\n",
              "      <td>greeting</td>\n",
              "    </tr>\n",
              "    <tr>\n",
              "      <th>2</th>\n",
              "      <td>1</td>\n",
              "      <td>how are you</td>\n",
              "      <td>greeting</td>\n",
              "    </tr>\n",
              "    <tr>\n",
              "      <th>3</th>\n",
              "      <td>1</td>\n",
              "      <td>is anyone there</td>\n",
              "      <td>greeting</td>\n",
              "    </tr>\n",
              "    <tr>\n",
              "      <th>4</th>\n",
              "      <td>1</td>\n",
              "      <td>hola</td>\n",
              "      <td>greeting</td>\n",
              "    </tr>\n",
              "  </tbody>\n",
              "</table>\n",
              "</div>"
            ],
            "text/plain": [
              "   conversation_id          message sentiment\n",
              "0                1         greeting  greeting\n",
              "1                1         hi there  greeting\n",
              "2                1      how are you  greeting\n",
              "3                1  is anyone there  greeting\n",
              "4                1             hola  greeting"
            ]
          },
          "metadata": {
            "tags": []
          },
          "execution_count": 10
        }
      ]
    },
    {
      "cell_type": "markdown",
      "metadata": {
        "id": "ZVLNGA7Xk7wC"
      },
      "source": [
        "# Preprocessing techniques on splitting and refining my data"
      ]
    },
    {
      "cell_type": "code",
      "metadata": {
        "colab": {
          "base_uri": "https://localhost:8080/"
        },
        "id": "Fv8ei7F5QFP4",
        "outputId": "106d6992-9159-45a5-b6d4-0a955d4e8f81"
      },
      "source": [
        "# Vectorize the data.\n",
        "input_texts = []\n",
        "target_texts = []\n",
        "input_words_set = set()\n",
        "target_words_set = set()\n",
        "\n",
        "for conversation_index in tqdm(range(df.shape[0])):\n",
        "\n",
        "    if conversation_index == 0:\n",
        "        continue\n",
        "\n",
        "    input_text = df.iloc[conversation_index - 1]\n",
        "    target_text = df.iloc[conversation_index]\n",
        "\n",
        "    if input_text.conversation_id == target_text.conversation_id:\n",
        "\n",
        "        input_text = input_text.message\n",
        "        target_text = target_text.message\n",
        "\n",
        "        if len(input_text.split()) > 2 and \\\n",
        "            len(target_text.split()) > 0 and \\\n",
        "            len(input_text.split()) < 30 and \\\n",
        "            len(target_text.split()) < 10 and \\\n",
        "            input_text and \\\n",
        "            target_text:\n",
        "\n",
        "            target_text = \"bos \" + target_text + \" eos\"\n",
        "\n",
        "            input_texts.append(input_text)\n",
        "            target_texts.append(target_text)\n",
        "\n",
        "            for word in input_text.split():\n",
        "                if word not in input_words_set:\n",
        "                    input_words_set.add(word)\n",
        "            for word in target_text.split():\n",
        "                if word not in target_words_set:\n",
        "                    target_words_set.add(word)"
      ],
      "execution_count": null,
      "outputs": [
        {
          "output_type": "stream",
          "text": [
            "100%|██████████| 414/414 [00:00<00:00, 2907.54it/s]\n"
          ],
          "name": "stderr"
        }
      ]
    },
    {
      "cell_type": "markdown",
      "metadata": {
        "id": "ok1QeV-AlOHY"
      },
      "source": [
        "# Tokenization"
      ]
    },
    {
      "cell_type": "markdown",
      "metadata": {
        "id": "PzrwD8FvlOGA"
      },
      "source": []
    },
    {
      "cell_type": "code",
      "metadata": {
        "colab": {
          "base_uri": "https://localhost:8080/"
        },
        "id": "9S0ophDIQO0a",
        "outputId": "366ec11e-d750-4130-d910-c76a3fc1513e"
      },
      "source": [
        "input_words = sorted(list(input_words_set))\n",
        "target_words = sorted(list(target_words_set))\n",
        "num_encoder_tokens = len(input_words)\n",
        "num_decoder_tokens = len(target_words)\n",
        "max_encoder_seq_length = max([len(txt.split()) for txt in input_texts])\n",
        "max_decoder_seq_length = max([len(txt.split()) for txt in target_texts])\n",
        "\n",
        "print(\"Number of samples:\", len(input_texts))\n",
        "print(\"Number of unique input tokens:\", num_encoder_tokens)\n",
        "print(\"Number of unique output tokens:\", num_decoder_tokens)\n",
        "print(\"Max sequence length for inputs:\", max_encoder_seq_length)\n",
        "print(\"Max sequence length for outputs:\", max_decoder_seq_length)\n",
        "\n",
        "input_token_index = dict([(word, i) for i, word in enumerate(input_words)])\n",
        "target_token_index = dict([(word, i) for i, word in enumerate(target_words)])\n",
        "\n",
        "#saving\n",
        "with open('input_token_index.pickle', 'wb') as handle:\n",
        "    pickle.dump(input_token_index, handle, protocol=pickle.HIGHEST_PROTOCOL)\n",
        "\n",
        "#saving\n",
        "with open('target_token_index.pickle', 'wb') as handle:\n",
        "    pickle.dump(target_token_index, handle, protocol=pickle.HIGHEST_PROTOCOL)\n",
        "\n",
        "\n",
        "encoder_input_data = np.zeros(\n",
        "    (len(input_texts), max_encoder_seq_length), dtype=\"float32\"\n",
        ")\n",
        "decoder_input_data = np.zeros(\n",
        "    (len(input_texts), max_decoder_seq_length), dtype=\"float32\"\n",
        ")\n",
        "decoder_target_data = np.zeros(\n",
        "    (len(input_texts), max_decoder_seq_length, num_decoder_tokens), dtype=\"float32\"\n",
        ")\n",
        "\n",
        "for i, (input_text, target_text) in enumerate(zip(input_texts, target_texts)):\n",
        "\n",
        "    for t, word in enumerate(input_text.split()):\n",
        "        encoder_input_data[i, t] = input_token_index[word]\n",
        "\n",
        "    for t, word in enumerate(target_text.split()):\n",
        "        # decoder_target_data is ahead of decoder_input_data by one timestep\n",
        "        decoder_input_data[i, t] = target_token_index[word]\n",
        "        if t > 0:\n",
        "            # decoder_target_data will be ahead by one timestep\n",
        "            # and will not include the start character.\n",
        "            decoder_target_data[i, t - 1, target_token_index[word]] = 1.0"
      ],
      "execution_count": null,
      "outputs": [
        {
          "output_type": "stream",
          "text": [
            "Number of samples: 189\n",
            "Number of unique input tokens: 297\n",
            "Number of unique output tokens: 266\n",
            "Max sequence length for inputs: 12\n",
            "Max sequence length for outputs: 11\n"
          ],
          "name": "stdout"
        }
      ]
    },
    {
      "cell_type": "markdown",
      "metadata": {
        "id": "JEeT4aeMhu3k"
      },
      "source": [
        "#Seq2seq model and Adam Optimization using AdaGrad and RMSProp"
      ]
    },
    {
      "cell_type": "code",
      "metadata": {
        "colab": {
          "base_uri": "https://localhost:8080/"
        },
        "id": "tPYgBbWtQbVj",
        "outputId": "3da22180-bf84-44be-9e40-b6ae35738f5d"
      },
      "source": [
        "embedding_size = 100\n",
        "\n",
        "# seq2seq model\n",
        "with strategy.scope():\n",
        "    # Define an input sequence and process it.\n",
        "    encoder_inputs = keras.Input(shape=(None,))\n",
        "\n",
        "    encoder_embedding_output = keras.layers.Embedding(num_encoder_tokens, embedding_size)(encoder_inputs)\n",
        "\n",
        "    encoder = keras.layers.LSTM(latent_dim, return_state=True)\n",
        "    encoder_outputs, state_h, state_c = encoder(encoder_embedding_output)\n",
        "\n",
        "    # We discard `encoder_outputs` and only keep the states.\n",
        "    encoder_states = [state_h, state_c]\n",
        "\n",
        "    # Set up the decoder, using `encoder_states` as initial state.\n",
        "    decoder_inputs = keras.Input(shape=(None,))\n",
        "\n",
        "    decoder_embedding = keras.layers.Embedding(num_decoder_tokens, embedding_size)\n",
        "    decoder_embedding_output = decoder_embedding(decoder_inputs)\n",
        "\n",
        "\n",
        "    # We set up our decoder to return full output sequences,\n",
        "    # and to return internal states as well. We don't use the\n",
        "    # return states in the training model, but we will use them in inference.\n",
        "    decoder_lstm = keras.layers.LSTM(latent_dim, return_sequences=True, return_state=True)\n",
        "    decoder_outputs, _, _ = decoder_lstm(decoder_embedding_output, initial_state=encoder_states)\n",
        "    decoder_dense = keras.layers.Dense(num_decoder_tokens, activation=\"softmax\")\n",
        "    decoder_outputs = decoder_dense(decoder_outputs)\n",
        "\n",
        "    # Define the model that will turn\n",
        "    # `encoder_input_data` & `decoder_input_data` into `decoder_target_data`\n",
        "    model = keras.Model([encoder_inputs, decoder_inputs], decoder_outputs)\n",
        "    model.compile(\n",
        "        optimizer=\"adam\", loss=\"categorical_crossentropy\", metrics=[\"accuracy\"]\n",
        "    )\n",
        "    model.summary()\n",
        "\n",
        " #Modeling Evaluation"
      ],
      "execution_count": null,
      "outputs": [
        {
          "output_type": "stream",
          "text": [
            "Model: \"model\"\n",
            "__________________________________________________________________________________________________\n",
            "Layer (type)                    Output Shape         Param #     Connected to                     \n",
            "==================================================================================================\n",
            "input_1 (InputLayer)            [(None, None)]       0                                            \n",
            "__________________________________________________________________________________________________\n",
            "input_2 (InputLayer)            [(None, None)]       0                                            \n",
            "__________________________________________________________________________________________________\n",
            "embedding (Embedding)           (None, None, 100)    29700       input_1[0][0]                    \n",
            "__________________________________________________________________________________________________\n",
            "embedding_1 (Embedding)         (None, None, 100)    26600       input_2[0][0]                    \n",
            "__________________________________________________________________________________________________\n",
            "lstm (LSTM)                     [(None, 251), (None, 353408      embedding[0][0]                  \n",
            "__________________________________________________________________________________________________\n",
            "lstm_1 (LSTM)                   [(None, None, 251),  353408      embedding_1[0][0]                \n",
            "                                                                 lstm[0][1]                       \n",
            "                                                                 lstm[0][2]                       \n",
            "__________________________________________________________________________________________________\n",
            "dense (Dense)                   (None, None, 266)    67032       lstm_1[0][0]                     \n",
            "==================================================================================================\n",
            "Total params: 830,148\n",
            "Trainable params: 830,148\n",
            "Non-trainable params: 0\n",
            "__________________________________________________________________________________________________\n"
          ],
          "name": "stdout"
        }
      ]
    },
    {
      "cell_type": "markdown",
      "metadata": {
        "id": "i5YB6z6JolV7"
      },
      "source": [
        "# Training my dataset\n"
      ]
    },
    {
      "cell_type": "code",
      "metadata": {
        "colab": {
          "base_uri": "https://localhost:8080/"
        },
        "id": "x6hKxzVwObeb",
        "outputId": "2ed61595-bb9e-4af9-a759-c3c1b64faa28"
      },
      "source": [
        "history = model.fit(\n",
        "    [encoder_input_data, decoder_input_data],\n",
        "    decoder_target_data,\n",
        "    batch_size=batch_size,\n",
        "    epochs=20,\n",
        "    validation_split=0.1,\n",
        ")"
      ],
      "execution_count": null,
      "outputs": [
        {
          "output_type": "stream",
          "text": [
            "Epoch 1/20\n",
            "17/17 [==============================] - 5s 117ms/step - loss: 2.5165 - accuracy: 0.0856 - val_loss: 2.5194 - val_accuracy: 0.0909\n",
            "Epoch 2/20\n",
            "17/17 [==============================] - 1s 67ms/step - loss: 2.2175 - accuracy: 0.1000 - val_loss: 2.4271 - val_accuracy: 0.0957\n",
            "Epoch 3/20\n",
            "17/17 [==============================] - 1s 67ms/step - loss: 2.1467 - accuracy: 0.1048 - val_loss: 2.4186 - val_accuracy: 0.0957\n",
            "Epoch 4/20\n",
            "17/17 [==============================] - 1s 68ms/step - loss: 2.1109 - accuracy: 0.1112 - val_loss: 2.3750 - val_accuracy: 0.0957\n",
            "Epoch 5/20\n",
            "17/17 [==============================] - 1s 66ms/step - loss: 2.0929 - accuracy: 0.1064 - val_loss: 2.3590 - val_accuracy: 0.0957\n",
            "Epoch 6/20\n",
            "17/17 [==============================] - 1s 66ms/step - loss: 2.0601 - accuracy: 0.1123 - val_loss: 2.3310 - val_accuracy: 0.0957\n",
            "Epoch 7/20\n",
            "17/17 [==============================] - 1s 67ms/step - loss: 2.0201 - accuracy: 0.1150 - val_loss: 2.2834 - val_accuracy: 0.0957\n",
            "Epoch 8/20\n",
            "17/17 [==============================] - 1s 68ms/step - loss: 1.9969 - accuracy: 0.1214 - val_loss: 2.2647 - val_accuracy: 0.1005\n",
            "Epoch 9/20\n",
            "17/17 [==============================] - 1s 66ms/step - loss: 1.9571 - accuracy: 0.1294 - val_loss: 2.2400 - val_accuracy: 0.1053\n",
            "Epoch 10/20\n",
            "17/17 [==============================] - 1s 68ms/step - loss: 1.9187 - accuracy: 0.1380 - val_loss: 2.2215 - val_accuracy: 0.1053\n",
            "Epoch 11/20\n",
            "17/17 [==============================] - 1s 68ms/step - loss: 1.8953 - accuracy: 0.1385 - val_loss: 2.2008 - val_accuracy: 0.1053\n",
            "Epoch 12/20\n",
            "17/17 [==============================] - 1s 79ms/step - loss: 1.8633 - accuracy: 0.1401 - val_loss: 2.1645 - val_accuracy: 0.1053\n",
            "Epoch 13/20\n",
            "17/17 [==============================] - 1s 67ms/step - loss: 1.8316 - accuracy: 0.1433 - val_loss: 2.1420 - val_accuracy: 0.1100\n",
            "Epoch 14/20\n",
            "17/17 [==============================] - 1s 70ms/step - loss: 1.8022 - accuracy: 0.1439 - val_loss: 2.1140 - val_accuracy: 0.1100\n",
            "Epoch 15/20\n",
            "17/17 [==============================] - 1s 69ms/step - loss: 1.7752 - accuracy: 0.1508 - val_loss: 2.0982 - val_accuracy: 0.1100\n",
            "Epoch 16/20\n",
            "17/17 [==============================] - 1s 69ms/step - loss: 1.7408 - accuracy: 0.1508 - val_loss: 2.0842 - val_accuracy: 0.1100\n",
            "Epoch 17/20\n",
            "17/17 [==============================] - 1s 68ms/step - loss: 1.7263 - accuracy: 0.1578 - val_loss: 2.0587 - val_accuracy: 0.1148\n",
            "Epoch 18/20\n",
            "17/17 [==============================] - 1s 69ms/step - loss: 1.7038 - accuracy: 0.1626 - val_loss: 2.0274 - val_accuracy: 0.1148\n",
            "Epoch 19/20\n",
            "17/17 [==============================] - 1s 67ms/step - loss: 1.6767 - accuracy: 0.1647 - val_loss: 2.0038 - val_accuracy: 0.1244\n",
            "Epoch 20/20\n",
            "17/17 [==============================] - 1s 67ms/step - loss: 1.6526 - accuracy: 0.1722 - val_loss: 1.9724 - val_accuracy: 0.1196\n"
          ],
          "name": "stdout"
        }
      ]
    },
    {
      "cell_type": "markdown",
      "metadata": {
        "id": "WX2AXlbyBFiF"
      },
      "source": [
        "#Visualization and Plotting"
      ]
    },
    {
      "cell_type": "code",
      "metadata": {
        "id": "dFYeQsXJdWL8"
      },
      "source": [
        "model.save('Health.h5')"
      ],
      "execution_count": null,
      "outputs": []
    },
    {
      "cell_type": "code",
      "metadata": {
        "colab": {
          "base_uri": "https://localhost:8080/",
          "height": 295
        },
        "id": "Wl0snZe4OfCx",
        "outputId": "660e2d4f-f3e1-4755-b798-b89a6200d1e8"
      },
      "source": [
        "# summarize history for loss\n",
        "plt.plot(history.history['loss'])\n",
        "plt.plot(history.history['val_loss'])\n",
        "plt.title('model loss')\n",
        "plt.ylabel('loss')\n",
        "plt.xlabel('epoch')\n",
        "plt.legend(['train', 'test'], loc='upper right')\n",
        "plt.show()"
      ],
      "execution_count": null,
      "outputs": [
        {
          "output_type": "display_data",
          "data": {
            "image/png": "[encoded data removed]",
            "text/plain": [
              "<Figure size 432x288 with 1 Axes>"
            ]
          },
          "metadata": {
            "tags": [],
            "needs_background": "light"
          }
        }
      ]
    },
    {
      "cell_type": "markdown",
      "metadata": {
        "id": "hNMJk7PTB296"
      },
      "source": []
    },
    {
      "cell_type": "markdown",
      "metadata": {
        "id": "AO0_V-57B6JQ"
      },
      "source": []
    },
    {
      "cell_type": "code",
      "metadata": {
        "id": "na8VaVGMOl29"
      },
      "source": [
        "# Save model\n",
        "model.save(\"s2s.hdf5\")"
      ],
      "execution_count": null,
      "outputs": []
    },
    {
      "cell_type": "markdown",
      "metadata": {
        "id": "89OEeTm8-U45"
      },
      "source": [
        "#DNN architextures, picking the right model for the problem"
      ]
    },
    {
      "cell_type": "code",
      "metadata": {
        "colab": {
          "base_uri": "https://localhost:8080/"
        },
        "id": "99NpcZXqOnZ1",
        "outputId": "e4c18c0c-92a3-4d3a-af11-59c495f1c921"
      },
      "source": [
        "# define the encoder model\n",
        "encoder_model = keras.Model(encoder_inputs, encoder_states)\n",
        "encoder_model.summary()\n",
        "\n",
        "decoder_state_input_h = keras.Input(shape=(None,))\n",
        "decoder_state_input_c = keras.Input(shape=(None,))\n",
        "decoder_states_inputs = [decoder_state_input_h, decoder_state_input_c]\n",
        "\n",
        "decoder_embedding_output = decoder_embedding(decoder_inputs)\n",
        "\n",
        "decoder_outputs2, state_h2, state_c2 = decoder_lstm(decoder_embedding_output, initial_state=decoder_states_inputs)\n",
        "decoder_states2 = [state_h2, state_c2]\n",
        "decoder_outputs2 = decoder_dense(decoder_outputs2)\n",
        "decoder_model = keras.Model(\n",
        "    [decoder_inputs] + decoder_states_inputs,\n",
        "    [decoder_outputs2] + decoder_states2)\n",
        "# Reverse-lookup token index to decode sequences back\n",
        "reverse_input_char_index = dict(\n",
        "    (i, char) for char, i in input_token_index.items())\n",
        "reverse_target_char_index = dict(\n",
        "    (i, char) for char, i in target_token_index.items())"
      ],
      "execution_count": null,
      "outputs": [
        {
          "output_type": "stream",
          "text": [
            "Model: \"model_34\"\n",
            "_________________________________________________________________\n",
            "Layer (type)                 Output Shape              Param #   \n",
            "=================================================================\n",
            "input_43 (InputLayer)        [(None, None)]            0         \n",
            "_________________________________________________________________\n",
            "embedding_18 (Embedding)     (None, None, 100)         29700     \n",
            "_________________________________________________________________\n",
            "lstm_18 (LSTM)               [(None, 251), (None, 251) 353408    \n",
            "=================================================================\n",
            "Total params: 383,108\n",
            "Trainable params: 383,108\n",
            "Non-trainable params: 0\n",
            "_________________________________________________________________\n"
          ],
          "name": "stdout"
        }
      ]
    },
    {
      "cell_type": "code",
      "metadata": {
        "colab": {
          "base_uri": "https://localhost:8080/"
        },
        "id": "e2Te3cpTOp0f",
        "outputId": "f948187d-de97-4c9f-a9e0-2923953f614f"
      },
      "source": [
        "encoder_model.save(\"encoder_model.hdf5\")\n",
        "decoder_model.save(\"decoder_model.hdf5\")"
      ],
      "execution_count": null,
      "outputs": [
        {
          "output_type": "stream",
          "text": [
            "WARNING:tensorflow:Compiled the loaded model, but the compiled metrics have yet to be built. `model.compile_metrics` will be empty until you train or evaluate the model.\n",
            "WARNING:tensorflow:Compiled the loaded model, but the compiled metrics have yet to be built. `model.compile_metrics` will be empty until you train or evaluate the model.\n"
          ],
          "name": "stdout"
        }
      ]
    },
    {
      "cell_type": "markdown",
      "metadata": {
        "id": "o2ZDwVjDyACG"
      },
      "source": [
        "#Response function"
      ]
    },
    {
      "cell_type": "code",
      "metadata": {
        "id": "Xqk7y_wvOvMw"
      },
      "source": [
        "def respond(text):\n",
        "    input_seq = np.zeros(\n",
        "        (1, max_encoder_seq_length), dtype=\"float32\"\n",
        "    )\n",
        "\n",
        "    for t, word in enumerate(text.split()):\n",
        "        input_seq[0, t] = input_token_index[word]\n",
        "\n",
        "    # Encode the input as state vectors.\n",
        "    states_value = encoder_model.predict(input_seq)\n",
        "    # Generate empty target sequence of length 1.\n",
        "    target_seq = np.zeros((1,1))\n",
        "    # Populate the first character of target sequence with the start character.\n",
        "    target_seq[0, 0] = target_token_index['bos']\n",
        "    # Sampling loop for a batch of sequences\n",
        "    # (to simplify, here we assume a batch of size 1).\n",
        "    stop_condition = False\n",
        "    decoded_sentence = ''\n",
        "    while not stop_condition:\n",
        "        output_tokens, h, c = decoder_model.predict([target_seq] + states_value)\n",
        "\n",
        "        # Sample a token\n",
        "        sampled_token_index = np.argmax(output_tokens[0, -1, :])\n",
        "        sampled_char = reverse_target_char_index[sampled_token_index]\n",
        "\n",
        "        # Exit condition: either hit max length\n",
        "        # or find stop character.\n",
        "        if (sampled_char == 'eos' or\n",
        "           len(decoded_sentence) > 50):\n",
        "            stop_condition = True\n",
        "        else:\n",
        "            decoded_sentence += ' ' + sampled_char\n",
        "\n",
        "        # Update the target sequence (of length 1).\n",
        "        target_seq = np.zeros((1,1))\n",
        "        target_seq[0, 0] = sampled_token_index\n",
        "        # Update states\n",
        "        states_value = [h, c]\n",
        "    return decoded_sentence"
      ],
      "execution_count": null,
      "outputs": []
    },
    {
      "cell_type": "markdown",
      "metadata": {
        "id": "_rtBfijg8xfp"
      },
      "source": [
        "#Transformation and Normalization\n",
        "\n"
      ]
    },
    {
      "cell_type": "code",
      "metadata": {
        "colab": {
          "base_uri": "https://localhost:8080/",
          "height": 532
        },
        "id": "ZR_K-ps58ul-",
        "outputId": "917593c5-f41b-43fd-c15b-e3b621ae7078"
      },
      "source": [
        "#from tensorflow.keras.utils import plot_model\n",
        "from keras.utils.vis_utils import plot_model\n",
        "plot_model(model, to_file='/content/drive/My Drive/Colab Notebooks/health/DoctorAppointment.png', show_shapes=True, show_layer_names=True)\n",
        "\n"
      ],
      "execution_count": null,
      "outputs": [
        {
          "output_type": "execute_result",
          "data": {
            "image/png": "[encoded data removed]",
            "text/plain": [
              "<IPython.core.display.Image object>"
            ]
          },
          "metadata": {
            "tags": []
          },
          "execution_count": 302
        }
      ]
    },
    {
      "cell_type": "markdown",
      "metadata": {
        "id": "b-3Y8A4q_jqP"
      },
      "source": [
        "#Chatting with my Healthcare bot, we will call her TeeKay"
      ]
    },
    {
      "cell_type": "code",
      "metadata": {
        "colab": {
          "base_uri": "https://localhost:8080/",
          "height": 35
        },
        "id": "vueR3hrFO1FF",
        "outputId": "8abbf46e-69d4-4ac9-8d36-01b60409dc45"
      },
      "source": [
        "respond(\"have a problem\") #it will respond according to the input"
      ],
      "execution_count": null,
      "outputs": [
        {
          "output_type": "execute_result",
          "data": {
            "application/vnd.google.colaboratory.intrinsic+json": {
              "type": "string"
            },
            "text/plain": [
              "' you might be suffering from chickenpox'"
            ]
          },
          "metadata": {
            "tags": []
          },
          "execution_count": 288
        }
      ]
    },
    {
      "cell_type": "code",
      "metadata": {
        "colab": {
          "base_uri": "https://localhost:8080/",
          "height": 35
        },
        "id": "V14NI9zKO4iV",
        "outputId": "e6237698-0ded-4525-c0fe-684bd28bb54c"
      },
      "source": [
        "respond(\"name\") #asking you name, so that the friendship will increase from small talks"
      ],
      "execution_count": null,
      "outputs": [
        {
          "output_type": "execute_result",
          "data": {
            "application/vnd.google.colaboratory.intrinsic+json": {
              "type": "string"
            },
            "text/plain": [
              "' what should i call you'"
            ]
          },
          "metadata": {
            "tags": []
          },
          "execution_count": 291
        }
      ]
    },
    {
      "cell_type": "code",
      "metadata": {
        "colab": {
          "base_uri": "https://localhost:8080/",
          "height": 35
        },
        "id": "c2tS7_lMO6L_",
        "outputId": "ce095f9c-318c-40a8-e437-6efd0eb37063"
      },
      "source": [
        "respond(\" bye\") #saying goodbye to the bot"
      ],
      "execution_count": null,
      "outputs": [
        {
          "output_type": "execute_result",
          "data": {
            "application/vnd.google.colaboratory.intrinsic+json": {
              "type": "string"
            },
            "text/plain": [
              "' goodbye'"
            ]
          },
          "metadata": {
            "tags": []
          },
          "execution_count": 282
        }
      ]
    },
    {
      "cell_type": "code",
      "metadata": {
        "colab": {
          "base_uri": "https://localhost:8080/",
          "height": 35
        },
        "id": "_uZIurd-7hbS",
        "outputId": "8b5f2500-294c-4a52-aee4-a7825104788a"
      },
      "source": [
        "respond(\"can you help me\") #asking for help"
      ],
      "execution_count": null,
      "outputs": [
        {
          "output_type": "execute_result",
          "data": {
            "application/vnd.google.colaboratory.intrinsic+json": {
              "type": "string"
            },
            "text/plain": [
              "' yes i can help you'"
            ]
          },
          "metadata": {
            "tags": []
          },
          "execution_count": 293
        }
      ]
    },
    {
      "cell_type": "markdown",
      "metadata": {
        "id": "Y0-cjxEVAKmV"
      },
      "source": [
        "#Decoding the training set"
      ]
    },
    {
      "cell_type": "code",
      "metadata": {
        "colab": {
          "base_uri": "https://localhost:8080/"
        },
        "id": "P-bbPlSqO8WR",
        "outputId": "d0b88bf6-acf5-41ec-a579-3c1abb970b9c"
      },
      "source": [
        "for seq_index in range(20):\n",
        "    # Take one sequence (part of the training set)\n",
        "    # for trying out decoding.\n",
        "    decoded_sentence = respond(input_texts[seq_index])\n",
        "    print(\"-\")\n",
        "    print(\"Input sentence:\", input_texts[seq_index])\n",
        "    print(\"Decoded sentence:\", decoded_sentence)"
      ],
      "execution_count": null,
      "outputs": [
        {
          "output_type": "stream",
          "text": [
            "-\n",
            "Input sentence: how are you\n",
            "Decoded sentence:  is anyone there\n",
            "-\n",
            "Input sentence: is anyone there\n",
            "Decoded sentence:  hola\n",
            "-\n",
            "Input sentence: hello thanks for asking\n",
            "Decoded sentence:  good to see you again\n",
            "-\n",
            "Input sentence: good to see you again\n",
            "Decoded sentence:  hi there how can i help\n",
            "-\n",
            "Input sentence: what is your name\n",
            "Decoded sentence:  what should i call you\n",
            "-\n",
            "Input sentence: what should i call you\n",
            "Decoded sentence:  whats your name\n",
            "-\n",
            "Input sentence: whats your name\n",
            "Decoded sentence:  you can call me doctor brendon\n",
            "-\n",
            "Input sentence: you can call me doctor brendon\n",
            "Decoded sentence:  im engineer teekay\n",
            "-\n",
            "Input sentence: see you later\n",
            "Decoded sentence:  goodbye\n",
            "-\n",
            "Input sentence: nice chatting to you bye\n",
            "Decoded sentence:  till next time\n",
            "-\n",
            "Input sentence: till next time\n",
            "Decoded sentence:  see you\n",
            "-\n",
            "Input sentence: have a nice day\n",
            "Decoded sentence:  bye come back again soon\n",
            "-\n",
            "Input sentence: i need help\n",
            "Decoded sentence:  help me\n",
            "-\n",
            "Input sentence: i have some problem\n",
            "Decoded sentence:  problem\n",
            "-\n",
            "Input sentence: can you help me\n",
            "Decoded sentence:  yes i can help you\n",
            "-\n",
            "Input sentence: yes i can help you\n",
            "Decoded sentence:  tell me what can i do for you\n",
            "-\n",
            "Input sentence: tell me what can i do for you\n",
            "Decoded sentence:  what do you want me to do\n",
            "-\n",
            "Input sentence: what do you want me to do\n",
            "Decoded sentence:  how can i help you\n",
            "-\n",
            "Input sentence: how can i help you\n",
            "Decoded sentence:  what kind of help do you need\n",
            "-\n",
            "Input sentence: what kind of help do you need\n",
            "Decoded sentence:  tell me\n"
          ],
          "name": "stdout"
        }
      ]
    },
    {
      "cell_type": "code",
      "metadata": {
        "colab": {
          "base_uri": "https://localhost:8080/"
        },
        "id": "WMaSsDyxO_BQ",
        "outputId": "bcc86b6c-4aed-4773-d594-dc6adc4905df"
      },
      "source": [
        "eos_token = target_token_index['eos']\n",
        "eos_token"
      ],
      "execution_count": null,
      "outputs": [
        {
          "output_type": "execute_result",
          "data": {
            "text/plain": [
              "89"
            ]
          },
          "metadata": {
            "tags": []
          },
          "execution_count": 295
        }
      ]
    },
    {
      "cell_type": "markdown",
      "metadata": {
        "id": "AwhWCf6GAWN5"
      },
      "source": [
        "#Beaming my text in the Dataset"
      ]
    },
    {
      "cell_type": "code",
      "metadata": {
        "id": "Gsx4dZ45PBaj"
      },
      "source": [
        "from math import log\n",
        "def generate_beam_text(seed_text, next_words, beam_search_n, break_at_eos):\n",
        "\n",
        "    distributions_scores_states = [[list(), 0.0, [None, None]]]\n",
        "\n",
        "    decoder_states_value = None\n",
        "\n",
        "    for _ in range(next_words):\n",
        "\n",
        "        sequence_temp_candidates = list()\n",
        "\n",
        "        for i in range(len(distributions_scores_states)):\n",
        "\n",
        "            input_seq = np.zeros(\n",
        "                (1, max_encoder_seq_length), dtype=\"float32\"\n",
        "            )\n",
        "\n",
        "            # Generate empty target sequence of length 1.\n",
        "            target_seq = np.zeros((1,1))\n",
        "\n",
        "            seq, score, states_values = distributions_scores_states[i]\n",
        "\n",
        "            if len(distributions_scores_states) == 1:\n",
        "                for t, word in enumerate(process(seed_text).split()):\n",
        "                    input_seq[0, t] = input_token_index[word]\n",
        "\n",
        "                # Encode the input as state vectors.\n",
        "                decoder_states_value = encoder_model.predict(input_seq)\n",
        "\n",
        "                # Populate the first character of target sequence with the start character.\n",
        "                target_seq[0, 0] = target_token_index['bos']\n",
        "\n",
        "            else:\n",
        "                target_seq[0, 0] = seq[-1]\n",
        "                decoder_states_value = states_values\n",
        "\n",
        "                candidate_sentence = \"\"\n",
        "                for token_index in seq:\n",
        "                    if token_index == eos_token:\n",
        "                        break\n",
        "\n",
        "                    word = reverse_target_char_index[token_index]\n",
        "                    candidate_sentence+=word + \" \"\n",
        "\n",
        "                print(\"score :\", score, \" | \", candidate_sentence)\n",
        "\n",
        "\n",
        "            output_tokens_distribution, h, c = decoder_model.predict([target_seq] + decoder_states_value)\n",
        "\n",
        "            # Update states\n",
        "            decoder_states_value = [h, c]\n",
        "\n",
        "            predicted_distribution = output_tokens_distribution[0][0]\n",
        "\n",
        "            for j in range(len(predicted_distribution)):\n",
        "                if predicted_distribution[j] > 0:\n",
        "                    candidate = [seq + [j], score - log(predicted_distribution[j]), decoder_states_value]\n",
        "                    if break_at_eos and j == eos_token:\n",
        "                        continue\n",
        "                    else:\n",
        "                        sequence_temp_candidates.append(candidate)\n",
        "\n",
        "\n",
        "        # 2. score and sort all candidates\n",
        "        ordered = sorted(sequence_temp_candidates, key=lambda tup:tup[1])\n",
        "\n",
        "        distributions_scores_states = ordered[:beam_search_n]\n",
        "\n",
        "        print(\"-----\")"
      ],
      "execution_count": null,
      "outputs": []
    },
    {
      "cell_type": "code",
      "metadata": {
        "colab": {
          "base_uri": "https://localhost:8080/"
        },
        "id": "oABs9tobPECx",
        "outputId": "66e5b4e0-43af-4320-931e-086d57edd5b3"
      },
      "source": [
        "generate_beam_text(\"you might\", 4, 5, False)"
      ],
      "execution_count": null,
      "outputs": [
        {
          "output_type": "stream",
          "text": [
            "-----\n",
            "score : 1.1961983327362133  |  headache \n",
            "score : 1.5791023803138544  |  problem \n",
            "score : 1.9382636909266382  |  goodbye \n",
            "score : 2.085053299861349  |  hola \n",
            "score : 2.2958077279747373  |  sweating \n",
            "-----\n",
            "score : 1.2528619821451679  |  headache \n",
            "score : 1.6143567704410982  |  problem \n",
            "score : 1.9819781666485714  |  goodbye \n",
            "score : 2.1288829157815456  |  hola \n",
            "score : 2.3358149833195485  |  sweating \n",
            "-----\n",
            "score : 5.161549830542  |  headache \n",
            "score : 5.3692829143967  |  headache \n",
            "score : 5.520416289104486  |  problem \n",
            "score : 5.711537610766459  |  headache \n",
            "score : 5.720031734981889  |  problem \n",
            "-----\n"
          ],
          "name": "stdout"
        }
      ]
    },
    {
      "cell_type": "code",
      "metadata": {
        "colab": {
          "base_uri": "https://localhost:8080/"
        },
        "id": "7Y7mAhsrPP7x",
        "outputId": "6e44c7ed-97f3-4400-9819-465b74647de9"
      },
      "source": [
        "generate_beam_text(\"thanks\", 5, 5, False)"
      ],
      "execution_count": null,
      "outputs": [
        {
          "output_type": "stream",
          "text": [
            "-----\n",
            "score : 1.0916492240669768  |  problem \n",
            "score : 1.1046496819599645  |  headache \n",
            "score : 1.971165808137952  |  goodbye \n",
            "score : 3.110631211811256  |  sweating \n",
            "score : 3.141698076310022  |  hola \n",
            "-----\n",
            "score : 1.1289974876666458  |  problem \n",
            "score : 1.1681679107845218  |  headache \n",
            "score : 2.0260598756467916  |  goodbye \n",
            "score : 3.1528613860251173  |  sweating \n",
            "score : 3.1886711728409587  |  hola \n",
            "-----\n",
            "score : 5.03343523554741  |  problem \n",
            "score : 5.071866873366145  |  headache \n",
            "score : 5.228869745652742  |  problem \n",
            "score : 5.285032130098537  |  headache \n",
            "score : 5.601733595750873  |  problem \n",
            "-----\n",
            "score : 5.387202516526233  |  problem \n",
            "score : 5.443648731093784  |  headache \n",
            "score : 5.670718288662511  |  problem \n",
            "score : 8.823725958807758  |  problem \n",
            "score : 8.8778833639774  |  headache \n",
            "-----\n"
          ],
          "name": "stdout"
        }
      ]
    },
    {
      "cell_type": "code",
      "metadata": {
        "colab": {
          "base_uri": "https://localhost:8080/"
        },
        "id": "KcOTtMGzPVKY",
        "outputId": "73dc160b-eb27-40ff-a67e-a55dd37af119"
      },
      "source": [
        "generate_beam_text(\"tell me what can i do for you\", 5, 5, False)"
      ],
      "execution_count": null,
      "outputs": [
        {
          "output_type": "stream",
          "text": [
            "-----\n",
            "score : 0.05757247133866767  |  what \n",
            "score : 3.867943831247506  |  blurred \n",
            "score : 4.308777940911542  |  how \n",
            "score : 5.063408999273781  |  you \n",
            "score : 5.520508929901297  |  itchiness \n",
            "-----\n",
            "score : 0.07563217642050574  |  what do \n",
            "score : 3.932047889181042  |  blurred vision \n",
            "score : 4.464099981473815  |  how can \n",
            "score : 5.219939611667593  |  you might \n",
            "score : 5.2981968756127715  |  what should \n",
            "-----\n",
            "score : 0.10709001560851163  |  what do you \n",
            "score : 3.9939430158901272  |  blurred vision \n",
            "score : 4.671544082161159  |  how can i \n",
            "score : 4.832691175785236  |  what do do \n",
            "score : 5.281588989682012  |  you might be \n",
            "-----\n",
            "score : 0.1960305847378265  |  what do you want \n",
            "score : 4.006455418518774  |  what do you need \n",
            "score : 4.394150684222454  |  what do you call \n",
            "score : 4.483506172156938  |  what do you might \n",
            "score : 4.9160623603430045  |  what do you do \n",
            "-----\n"
          ],
          "name": "stdout"
        }
      ]
    },
    {
      "cell_type": "code",
      "metadata": {
        "id": "AYjFoIsH7r4F"
      },
      "source": [],
      "execution_count": null,
      "outputs": []
    }
  ]
}